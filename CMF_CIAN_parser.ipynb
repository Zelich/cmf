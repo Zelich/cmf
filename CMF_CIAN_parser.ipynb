{
 "cells": [
  {
   "cell_type": "markdown",
   "metadata": {},
   "source": [
    "# CIAN.ru"
   ]
  },
  {
   "cell_type": "code",
   "execution_count": 53,
   "metadata": {
    "collapsed": false
   },
   "outputs": [],
   "source": [
    "import requests\n",
    "import re\n",
    "from bs4 import BeautifulSoup\n",
    "import pandas as pd\n",
    "import time\n",
    "import numpy as np\n",
    "from math import sin, cos, acos, pi\n",
    "import math"
   ]
  },
  {
   "cell_type": "code",
   "execution_count": 54,
   "metadata": {
    "collapsed": true
   },
   "outputs": [],
   "source": [
    "def html_stripper(text):\n",
    "    return re.sub('<[^<]+?>', '', str(text))"
   ]
  },
  {
   "cell_type": "markdown",
   "metadata": {},
   "source": [
    "### Возьмем основные районы для поиска"
   ]
  },
  {
   "cell_type": "code",
   "execution_count": 55,
   "metadata": {
    "collapsed": true
   },
   "outputs": [],
   "source": [
    "ds = ['http://www.cian.ru/cat.php?deal_type=sale&district%5B0%5D=13&district%5B1%5D=14&district%5B2%5D=15&district%5B3%5D=16&district%5B4%5D=17&district%5B5%5D=18&district%5B6%5D=19&district%5B7%5D=20&district%5B8%5D=21&district%5B9%5D=22&engine_version=2&offer_type=flat&room1=1&room2=1&room3=1&room4=1&room5=1&room6=1',\n",
    "'http://www.cian.ru/cat.php?deal_type=sale&district%5B0%5D=23&district%5B10%5D=33&district%5B11%5D=34&district%5B12%5D=35&district%5B13%5D=36&district%5B14%5D=37&district%5B15%5D=38&district%5B1%5D=24&district%5B2%5D=25&district%5B3%5D=26&district%5B4%5D=27&district%5B5%5D=28&district%5B6%5D=29&district%5B7%5D=30&district%5B8%5D=31&district%5B9%5D=32&engine_version=2&offer_type=flat&room1=1&room2=1&room3=1&room4=1&room5=1&room6=1',\n",
    "'http://www.cian.ru/cat.php?deal_type=sale&district%5B0%5D=39&district%5B10%5D=49&district%5B11%5D=50&district%5B12%5D=51&district%5B13%5D=52&district%5B14%5D=53&district%5B15%5D=54&district%5B16%5D=55&district%5B1%5D=40&district%5B2%5D=41&district%5B3%5D=42&district%5B4%5D=43&district%5B5%5D=44&district%5B6%5D=45&district%5B7%5D=46&district%5B8%5D=47&district%5B9%5D=48&engine_version=2&offer_type=flat&room1=1&room2=1&room3=1&room4=1&room5=1&room6=1',\n",
    "'http://www.cian.ru/cat.php?deal_type=sale&district%5B0%5D=56&district%5B10%5D=66&district%5B11%5D=67&district%5B12%5D=68&district%5B13%5D=69&district%5B14%5D=70&district%5B15%5D=71&district%5B1%5D=57&district%5B2%5D=58&district%5B3%5D=59&district%5B4%5D=60&district%5B5%5D=61&district%5B6%5D=62&district%5B7%5D=63&district%5B8%5D=64&district%5B9%5D=65&engine_version=2&offer_type=flat&room1=1&room2=1&room3=1&room4=1&room5=1&room6=1',\n",
    "'http://www.cian.ru/cat.php?deal_type=sale&district%5B0%5D=72&district%5B10%5D=82&district%5B11%5D=83&district%5B1%5D=73&district%5B2%5D=74&district%5B3%5D=75&district%5B4%5D=76&district%5B5%5D=77&district%5B6%5D=78&district%5B7%5D=79&district%5B8%5D=80&district%5B9%5D=81&engine_version=2&offer_type=flat&room1=1&room2=1&room3=1&room4=1&room5=1&room6=1',\n",
    "'http://www.cian.ru/cat.php?deal_type=sale&district%5B0%5D=84&district%5B10%5D=94&district%5B11%5D=95&district%5B12%5D=96&district%5B13%5D=97&district%5B14%5D=98&district%5B15%5D=99&district%5B1%5D=85&district%5B2%5D=86&district%5B3%5D=87&district%5B4%5D=88&district%5B5%5D=89&district%5B6%5D=90&district%5B7%5D=91&district%5B8%5D=92&district%5B9%5D=93&engine_version=2&offer_type=flat&room1=1&room2=1&room3=1&room4=1&room5=1&room6=1',\n",
    "'http://www.cian.ru/cat.php?deal_type=sale&district%5B0%5D=100&district%5B10%5D=110&district%5B11%5D=111&district%5B1%5D=101&district%5B2%5D=102&district%5B3%5D=103&district%5B4%5D=104&district%5B5%5D=105&district%5B6%5D=106&district%5B7%5D=107&district%5B8%5D=108&district%5B9%5D=109&engine_version=2&offer_type=flat&room1=1&room2=1&room3=1&room4=1&room5=1&room6=1',\n",
    "'http://www.cian.ru/cat.php?deal_type=sale&district%5B0%5D=112&district%5B10%5D=122&district%5B11%5D=123&district%5B12%5D=124&district%5B13%5D=348&district%5B14%5D=349&district%5B15%5D=350&district%5B1%5D=113&district%5B2%5D=114&district%5B3%5D=115&district%5B4%5D=116&district%5B5%5D=117&district%5B6%5D=118&district%5B7%5D=119&district%5B8%5D=120&district%5B9%5D=121&engine_version=2&offer_type=flat&room1=1&room2=1&room3=1&room4=1&room5=1&room6=1',\n",
    "'http://www.cian.ru/cat.php?deal_type=sale&district%5B0%5D=125&district%5B1%5D=126&district%5B2%5D=127&district%5B3%5D=128&district%5B4%5D=129&district%5B5%5D=130&district%5B6%5D=131&district%5B7%5D=132&engine_version=2&offer_type=flat&room1=1&room2=1&room3=1&room4=1&room5=1&room6=1']"
   ]
  },
  {
   "cell_type": "markdown",
   "metadata": {},
   "source": [
    "### Гуляем по страницам и качаем с них все ссылки на наши квартиры. Следует заметить, что циан поддерживает только 30 страниц, потому и проходим мы только по 30 страницам."
   ]
  },
  {
   "cell_type": "code",
   "execution_count": 56,
   "metadata": {
    "collapsed": false
   },
   "outputs": [
    {
     "name": "stdout",
     "output_type": "stream",
     "text": [
      "districts checked: 1 / 9 ...........\n",
      "districts checked: 2 / 9 ...........\n",
      "districts checked: 3 / 9 ...........\n",
      "districts checked: 4 / 9 ...........\n",
      "districts checked: 5 / 9 ...........\n",
      "districts checked: 6 / 9 ...........\n",
      "districts checked: 7 / 9 ...........\n",
      "districts checked: 8 / 9 ...........\n",
      "districts checked: 9 / 9 ...........\n"
     ]
    }
   ],
   "source": [
    "links = []\n",
    "i = 0\n",
    "for district in ds:\n",
    "    i += 1\n",
    "    for page in range(1, 30):\n",
    "        page_url =  district.format(page)\n",
    "\n",
    "        search_page = requests.get(page_url)\n",
    "        search_page = search_page.content\n",
    "        search_page = BeautifulSoup(search_page, 'lxml')\n",
    "\n",
    "        flat_urls = search_page.findAll('div', attrs = {'ng-class':\"{'serp-item_removed': offer.remove.state, 'serp-item_popup-opened': isPopupOpen}\"})\n",
    "        flat_urls = re.split('http://www.cian.ru/sale/flat/|/\" ng-class=\"', str(flat_urls))\n",
    "\n",
    "        for link in flat_urls:\n",
    "            if link.isdigit():\n",
    "                links.append((link, i))\n",
    "    print(\"districts checked:\", i, \"/\", len(ds), \"...........\")"
   ]
  },
  {
   "cell_type": "markdown",
   "metadata": {},
   "source": [
    "##### Итак, теперь в links хранятся номера, которые будем добавлять к адресу циана, чтобы посмотреть определенную квартиру, а также номера районов, в которых квартиры находятся"
   ]
  },
  {
   "cell_type": "markdown",
   "metadata": {},
   "source": [
    "### Пришло время функций"
   ]
  },
  {
   "cell_type": "markdown",
   "metadata": {},
   "source": [
    "##### 1. Функция больше для себя, которая выгружает название ближайшего метро"
   ]
  },
  {
   "cell_type": "code",
   "execution_count": 57,
   "metadata": {
    "collapsed": false
   },
   "outputs": [],
   "source": [
    "def getMetrName(flat_page):\n",
    "    Metrname = flat_page.find('a', attrs={'class':'object_item_metro_name'})\n",
    "    Metrname = re.split('</a>|\"_blank\">|,', str(Metrname))\n",
    "    return Metrname[1]"
   ]
  },
  {
   "cell_type": "markdown",
   "metadata": {},
   "source": [
    "##### 2. Функция, которая выгружает время до метро и добираться до него пешком или не пешком"
   ]
  },
  {
   "cell_type": "code",
   "execution_count": 58,
   "metadata": {
    "collapsed": false
   },
   "outputs": [],
   "source": [
    "def getMetroDistInfo(flat_page):\n",
    "    Metrdist = flat_page.find('span', attrs={'class':'object_item_metro_comment'})\n",
    "    Metrdist = str(Metrdist).split()\n",
    "    if len(Metrdist)<5:\n",
    "        return np.nan,np.nan\n",
    "    count = Metrdist[2]\n",
    "    time_type = Metrdist[3]\n",
    "    Walk = Metrdist[4]\n",
    "    if Walk==\"пешком\":\n",
    "        Walk = 1\n",
    "    else:\n",
    "        Walk = 0\n",
    "    return count, Walk"
   ]
  },
  {
   "cell_type": "markdown",
   "metadata": {},
   "source": [
    "##### 3. Функция, которая выгружает цену"
   ]
  },
  {
   "cell_type": "code",
   "execution_count": 59,
   "metadata": {
    "collapsed": true
   },
   "outputs": [],
   "source": [
    "def getPrice(flat_page):\n",
    "    price = flat_page.find('div', attrs={'class':'object_descr_price'})\n",
    "    price = re.split('<div>|руб|\\W', str(price))\n",
    "    price = \"\".join([i for i in price if i.isdigit()][-3:])\n",
    "    return int(price)"
   ]
  },
  {
   "cell_type": "markdown",
   "metadata": {},
   "source": [
    "##### 4. Побочная функция, которая выгружает координаты квартиры"
   ]
  },
  {
   "cell_type": "code",
   "execution_count": 60,
   "metadata": {
    "collapsed": true
   },
   "outputs": [],
   "source": [
    "def getCoords(flat_page):\n",
    "    lat1,lon1 = (55.755556, 37.617500)\n",
    "    coords = flat_page.find('div', attrs={'class':'map_info_button_extend'}).contents[1]\n",
    "    coords = re.split('&amp|center=|%2C', str(coords))\n",
    "    coords_list = []\n",
    "    for item in coords:\n",
    "        if item[0].isdigit():\n",
    "            coords_list.append(item)\n",
    "    lat = float(coords_list[0])\n",
    "    lon = float(coords_list[1])\n",
    "    return lat, lon, distBetw(lat1, lon1, lat, lon)"
   ]
  },
  {
   "cell_type": "markdown",
   "metadata": {},
   "source": [
    "##### 5. Функция, которая вычисляет расстояние до нулевого километра Москвы в метрах"
   ]
  },
  {
   "cell_type": "code",
   "execution_count": 61,
   "metadata": {
    "collapsed": false
   },
   "outputs": [],
   "source": [
    "def distBetw(lat1, lon1, lat2, lon2):\n",
    "    rad = 6371000\n",
    "    lat1 = lat1*math.pi/180\n",
    "    lat2 = lat2*math.pi/180\n",
    "    long1 = lon1*math.pi/180\n",
    "    long2 = lon2*math.pi/180\n",
    "    d = acos(sin(lat1)*sin(lat2) + cos(lat1)*cos(lat2)*cos(long1 - long2))\n",
    "    return rad*d"
   ]
  },
  {
   "cell_type": "markdown",
   "metadata": {},
   "source": [
    "##### 6. Функция, которая выгружает количество комнат"
   ]
  },
  {
   "cell_type": "code",
   "execution_count": 62,
   "metadata": {
    "collapsed": true
   },
   "outputs": [],
   "source": [
    "def getRoom(flat_page):\n",
    "    rooms = flat_page.find('div', attrs={'class':'object_descr_title'})\n",
    "    rooms = html_stripper(rooms)\n",
    "    room_number = ''\n",
    "    for i in re.split('-|\\n', rooms):\n",
    "        if 'комн' in i:\n",
    "            break\n",
    "        else:\n",
    "            room_number += i\n",
    "    room_number = \"\".join(room_number.split())\n",
    "    return room_number"
   ]
  },
  {
   "cell_type": "markdown",
   "metadata": {},
   "source": [
    "##### 7. Побочная функция, которая выгружает \"таблицу\", в которой находится много разных интересных данных"
   ]
  },
  {
   "cell_type": "code",
   "execution_count": 63,
   "metadata": {
    "collapsed": false
   },
   "outputs": [],
   "source": [
    "def getTable(flat_page):\n",
    "    table = flat_page.find('table', attrs = {'class':'object_descr_props'})\n",
    "    return html_stripper(table)"
   ]
  },
  {
   "cell_type": "markdown",
   "metadata": {},
   "source": [
    "##### 8. Например, этажи. Сколько всего в доме и на каком именно находится квартира. Эта функция (и дальнейшие) опираются на выгруженную ранее табличку."
   ]
  },
  {
   "cell_type": "code",
   "execution_count": 64,
   "metadata": {
    "collapsed": false
   },
   "outputs": [],
   "source": [
    "def getFloors(table):\n",
    "    floor = list(re.split('Этаж|Тип дома', table)[1])\n",
    "    if floor[0]==\":\":\n",
    "        return [symb for symb in floor if symb.isdigit()]\n",
    "    else:\n",
    "        return np.nan"
   ]
  },
  {
   "cell_type": "markdown",
   "metadata": {},
   "source": [
    "##### 9. На циане некоторые вещи, которые мы хотим иметь в раздельных столбцах, записаны в один. Как итог эта функция вернет массив из данных о \"кирпичности\" здания и о \"вторичности/невторичности\""
   ]
  },
  {
   "cell_type": "code",
   "execution_count": 65,
   "metadata": {
    "collapsed": true
   },
   "outputs": [],
   "source": [
    "def getTypes(table):\n",
    "    t = re.split('Тип дома|Высота потолков:|Тип продажи:', table)[1]\n",
    "    if t[0]==\":\":\n",
    "        t = re.split(' |\\n', t[1:])\n",
    "        types = [word for word in t if word!=\"\"]\n",
    "        types = [re.split(\",| \", ty)[0] for ty in types]\n",
    "        return types\n",
    "    else:\n",
    "        return np.nan"
   ]
  },
  {
   "cell_type": "markdown",
   "metadata": {},
   "source": [
    "##### 10. А эти функции используются, чтобы посмотреть тип и понять, хотим мы его записать как нолик или как единичку"
   ]
  },
  {
   "cell_type": "code",
   "execution_count": 66,
   "metadata": {
    "collapsed": true
   },
   "outputs": [],
   "source": [
    "def isvtorichka(stri):\n",
    "    if stri.lower() == \"вторичка\":\n",
    "        return 0\n",
    "    else:\n",
    "        return 1\n",
    "def isbrick(stri):\n",
    "    stri = stri.lower()\n",
    "    if stri.find(\"кирпич\") > -1 or stri.find(\"жб\") > -1 or stri.find(\"железобетон\") > -1 or stri.find(\"монолит\") > -1:\n",
    "        return 1\n",
    "    else:\n",
    "        return 0"
   ]
  },
  {
   "cell_type": "markdown",
   "metadata": {},
   "source": [
    "##### 11. Тоже функция больше для себя, считает высоту потолков"
   ]
  },
  {
   "cell_type": "code",
   "execution_count": 67,
   "metadata": {
    "collapsed": true
   },
   "outputs": [],
   "source": [
    "def getHeight(table):\n",
    "    t = re.split('Высота потолков|Тип продажи:', table)[1]\n",
    "    if t[0]==\":\":\n",
    "        return t[1:].split()[0]\n",
    "    else:\n",
    "        return np.nan"
   ]
  },
  {
   "cell_type": "markdown",
   "metadata": {
    "collapsed": false
   },
   "source": [
    "##### 12. Функция, выгружающая тип продажи "
   ]
  },
  {
   "cell_type": "code",
   "execution_count": 68,
   "metadata": {
    "collapsed": false
   },
   "outputs": [],
   "source": [
    "def getSaleType(table):\n",
    "    t = re.split('Тип продажи|Общая площадь:', table)[1]\n",
    "    if t[0]==\":\":\n",
    "        return t[1:].split()[0]\n",
    "    else:\n",
    "        return np.nan"
   ]
  },
  {
   "cell_type": "markdown",
   "metadata": {},
   "source": [
    "##### 13,14,15,16. Площади общие, комнат, жилая и кухонная соответственно"
   ]
  },
  {
   "cell_type": "code",
   "execution_count": 69,
   "metadata": {
    "collapsed": true
   },
   "outputs": [],
   "source": [
    "def getS(table):\n",
    "    s = re.split('Общая площадь|Площадь комнат:', table)[1]\n",
    "    if s[0]==\":\":\n",
    "        return s[1:].split()[0].replace(\",\",\".\")\n",
    "    else:\n",
    "        return np.nan"
   ]
  },
  {
   "cell_type": "code",
   "execution_count": 70,
   "metadata": {
    "collapsed": true
   },
   "outputs": [],
   "source": [
    "def getRoomsS(table):\n",
    "    s = re.split('Площадь комнат|Жилая площадь:', table)[1]\n",
    "    if s[0]==\":\":\n",
    "        return s[1:].split()[0].replace(\",\",\".\")\n",
    "    else:\n",
    "        return np.nan"
   ]
  },
  {
   "cell_type": "code",
   "execution_count": 71,
   "metadata": {
    "collapsed": true
   },
   "outputs": [],
   "source": [
    "def getLiveS(table):\n",
    "    s = re.split('Жилая площадь|Площадь кухни:', table)[1]\n",
    "    if s[0]==\":\":\n",
    "        return s[1:].split()[0].replace(\",\",\".\")\n",
    "    else:\n",
    "        return np.nan"
   ]
  },
  {
   "cell_type": "code",
   "execution_count": 72,
   "metadata": {
    "collapsed": true
   },
   "outputs": [],
   "source": [
    "def getKitchenS(table):\n",
    "    s = re.split('Площадь кухни|Совмещенных санузлов:', table)[1]\n",
    "    if s[0]==\":\":\n",
    "        return s[1:].split()[0].replace(\",\",\".\")\n",
    "    else:\n",
    "        return np.nan"
   ]
  },
  {
   "cell_type": "markdown",
   "metadata": {},
   "source": [
    "##### Бывают площади, обозначаемые \"-\". Будем выводить вместо них NaN с помощью этой функции:"
   ]
  },
  {
   "cell_type": "code",
   "execution_count": 73,
   "metadata": {
    "collapsed": true
   },
   "outputs": [],
   "source": [
    "def isUnknownS(s):\n",
    "    if s == \"-\":\n",
    "        return np.nan\n",
    "    else:\n",
    "        return s"
   ]
  },
  {
   "cell_type": "markdown",
   "metadata": {},
   "source": [
    "##### 17. Можем даже узнать, сколько туалетов. Почему бы и нет?"
   ]
  },
  {
   "cell_type": "code",
   "execution_count": 74,
   "metadata": {
    "collapsed": true
   },
   "outputs": [],
   "source": [
    "def getToilets(table):\n",
    "    s = re.split('Совмещенных санузлов|Балкон:', table)[1]\n",
    "    if s[0]==\":\":\n",
    "        return s[1:].split()[0]\n",
    "    else:\n",
    "        return np.nan"
   ]
  },
  {
   "cell_type": "markdown",
   "metadata": {},
   "source": [
    "##### 18. Наличие балконов"
   ]
  },
  {
   "cell_type": "code",
   "execution_count": 75,
   "metadata": {
    "collapsed": true
   },
   "outputs": [],
   "source": [
    "def getBalkon(table):\n",
    "    s = re.split('Балкон|Лифт:', table)[1]\n",
    "    if s[0]==\":\":\n",
    "        b = s[1:].split()[0]\n",
    "        if b.isdigit():\n",
    "            return 1\n",
    "        else:\n",
    "            return 0\n",
    "    else:\n",
    "        return np.nan"
   ]
  },
  {
   "cell_type": "markdown",
   "metadata": {},
   "source": [
    "##### Балконы могут обозначаться, как \"-\" или \"нет\". Это означает, что балкона нет."
   ]
  },
  {
   "cell_type": "markdown",
   "metadata": {},
   "source": [
    "### Общая функция, в которую подается сырая страничка"
   ]
  },
  {
   "cell_type": "code",
   "execution_count": 76,
   "metadata": {
    "collapsed": false
   },
   "outputs": [],
   "source": [
    "def getallinfo(flat_page, district_num):\n",
    "    flatStats = {'District':district_num}\n",
    "    #flatStats['Metrname'] = getMetrName(flat_page)\n",
    "    flatStats['Metrdist'], flatStats['Walk'] = getMetroDistInfo(flat_page)\n",
    "    flatStats['Price'] = getPrice(flat_page)\n",
    "    flatStats['lat'], flatStats['lon'], flatStats['Dist'] = getCoords(flat_page)\n",
    "    flatStats['rooms'] = getRoom(flat_page)\n",
    "    table = getTable(flat_page)\n",
    "    floors = getFloors(table)\n",
    "    flatStats['Floor'] = floors[0]\n",
    "    if len(floors)>1:\n",
    "        flatStats['Nfloors'] = floors[1]\n",
    "    else:\n",
    "        flatStats['Nfloors'] = np.nan\n",
    "    types = getTypes(table)\n",
    "    flatStats['New'] = isvtorichka(types[0])\n",
    "    if len(types)>1:\n",
    "        flatStats['Brick'] = isbrick(types[1])\n",
    "    else:\n",
    "        flatStats['Brick'] = np.nan\n",
    "    #flatStats['height'] = getHeight(table)\n",
    "    #flatStats['saleType'] = getSaleType(table)\n",
    "    flatStats['Totsp'] = getS(table)\n",
    "    #flatStats['roomsS'] = getRoomsS(table)\n",
    "    flatStats['Livesp'] = getLiveS(table)\n",
    "    flatStats['Kitsp'] = getKitchenS(table)\n",
    "    #flatStats['toilets'] = getToilets(table)\n",
    "    flatStats['Bal'] = getBalkon(table)\n",
    "    return flatStats"
   ]
  },
  {
   "cell_type": "markdown",
   "metadata": {},
   "source": [
    "### Осталось лишь пробежаться по всем посчитанным заранее страничкам, использовать готовую функцию и загнать все данные в массив"
   ]
  },
  {
   "cell_type": "code",
   "execution_count": 77,
   "metadata": {
    "collapsed": false
   },
   "outputs": [
    {
     "name": "stdout",
     "output_type": "stream",
     "text": [
      "2 %  calculated.......\n",
      "4 %  calculated.......\n",
      "6 %  calculated.......\n",
      "8 %  calculated.......\n",
      "10 %  calculated.......\n",
      "12 %  calculated.......\n",
      "14 %  calculated.......\n",
      "16 %  calculated.......\n",
      "18 %  calculated.......\n",
      "20 %  calculated.......\n",
      "22 %  calculated.......\n",
      "24 %  calculated.......\n",
      "26 %  calculated.......\n",
      "28 %  calculated.......\n",
      "30 %  calculated.......\n",
      "32 %  calculated.......\n",
      "34 %  calculated.......\n",
      "36 %  calculated.......\n",
      "38 %  calculated.......\n",
      "40 %  calculated.......\n",
      "42 %  calculated.......\n",
      "44 %  calculated.......\n",
      "46 %  calculated.......\n",
      "48 %  calculated.......\n",
      "50 %  calculated.......\n",
      "52 %  calculated.......\n",
      "54 %  calculated.......\n",
      "56 %  calculated.......\n",
      "58 %  calculated.......\n",
      "60 %  calculated.......\n",
      "62 %  calculated.......\n",
      "64 %  calculated.......\n",
      "66 %  calculated.......\n",
      "68 %  calculated.......\n",
      "70 %  calculated.......\n",
      "72 %  calculated.......\n",
      "74 %  calculated.......\n",
      "76 %  calculated.......\n",
      "78 %  calculated.......\n",
      "80 %  calculated.......\n",
      "82 %  calculated.......\n",
      "84 %  calculated.......\n",
      "86 %  calculated.......\n",
      "88 %  calculated.......\n",
      "90 %  calculated.......\n",
      "92 %  calculated.......\n",
      "94 %  calculated.......\n",
      "96 %  calculated.......\n",
      "98 %  calculated.......\n",
      "100 %  calculated.......\n"
     ]
    }
   ],
   "source": [
    "a=[]\n",
    "perc = int(len(links)/50)\n",
    "i = 0\n",
    "j = 0\n",
    "for page in links:\n",
    "    i += 1\n",
    "    flat_url = 'http://www.cian.ru/sale/flat/' + str(page[0]) + '/'\n",
    "    #flat_url = 'http://www.cian.ru/sale/flat/150531912/' \n",
    "    flat_page = requests.get(flat_url)\n",
    "    flat_page = flat_page.content\n",
    "    flat_page = BeautifulSoup(flat_page, 'lxml')\n",
    "    b = getallinfo(flat_page, page[1])\n",
    "    a.append(b)\n",
    "    if i % perc == 0:\n",
    "        j += 1\n",
    "        print(j*2,\"%  calculated.......\")"
   ]
  },
  {
   "cell_type": "markdown",
   "metadata": {},
   "source": [
    "### И вишенка на торте - преобразовать все в DataFrame и затем в .csv"
   ]
  },
  {
   "cell_type": "code",
   "execution_count": 78,
   "metadata": {
    "collapsed": false
   },
   "outputs": [
    {
     "data": {
      "text/html": [
       "<div>\n",
       "<table border=\"1\" class=\"dataframe\">\n",
       "  <thead>\n",
       "    <tr style=\"text-align: right;\">\n",
       "      <th></th>\n",
       "      <th>Bal</th>\n",
       "      <th>Brick</th>\n",
       "      <th>Dist</th>\n",
       "      <th>District</th>\n",
       "      <th>Floor</th>\n",
       "      <th>Kitsp</th>\n",
       "      <th>Livesp</th>\n",
       "      <th>Metrdist</th>\n",
       "      <th>New</th>\n",
       "      <th>Nfloors</th>\n",
       "      <th>Price</th>\n",
       "      <th>Totsp</th>\n",
       "      <th>Walk</th>\n",
       "      <th>lat</th>\n",
       "      <th>lon</th>\n",
       "      <th>rooms</th>\n",
       "    </tr>\n",
       "  </thead>\n",
       "  <tbody>\n",
       "    <tr>\n",
       "      <th>0</th>\n",
       "      <td>1</td>\n",
       "      <td>NaN</td>\n",
       "      <td>2900.122261</td>\n",
       "      <td>1</td>\n",
       "      <td>9</td>\n",
       "      <td>35</td>\n",
       "      <td>45</td>\n",
       "      <td>9</td>\n",
       "      <td>0</td>\n",
       "      <td>1</td>\n",
       "      <td>25000000</td>\n",
       "      <td>83</td>\n",
       "      <td>1.0</td>\n",
       "      <td>55.776006</td>\n",
       "      <td>37.646274</td>\n",
       "      <td>3</td>\n",
       "    </tr>\n",
       "    <tr>\n",
       "      <th>1</th>\n",
       "      <td>1</td>\n",
       "      <td>1.0</td>\n",
       "      <td>4126.204251</td>\n",
       "      <td>1</td>\n",
       "      <td>6</td>\n",
       "      <td>15</td>\n",
       "      <td>100</td>\n",
       "      <td>7</td>\n",
       "      <td>0</td>\n",
       "      <td>1</td>\n",
       "      <td>133846440</td>\n",
       "      <td>147</td>\n",
       "      <td>1.0</td>\n",
       "      <td>55.723699</td>\n",
       "      <td>37.583697</td>\n",
       "      <td>4</td>\n",
       "    </tr>\n",
       "    <tr>\n",
       "      <th>2</th>\n",
       "      <td>0</td>\n",
       "      <td>0.0</td>\n",
       "      <td>2829.209743</td>\n",
       "      <td>1</td>\n",
       "      <td>1</td>\n",
       "      <td>6.5</td>\n",
       "      <td>30</td>\n",
       "      <td>6</td>\n",
       "      <td>0</td>\n",
       "      <td>0</td>\n",
       "      <td>10850000</td>\n",
       "      <td>42</td>\n",
       "      <td>1.0</td>\n",
       "      <td>55.731075</td>\n",
       "      <td>37.629816</td>\n",
       "      <td>2</td>\n",
       "    </tr>\n",
       "    <tr>\n",
       "      <th>3</th>\n",
       "      <td>1</td>\n",
       "      <td>1.0</td>\n",
       "      <td>3716.069853</td>\n",
       "      <td>1</td>\n",
       "      <td>1</td>\n",
       "      <td>–</td>\n",
       "      <td>1</td>\n",
       "      <td>9</td>\n",
       "      <td>0</td>\n",
       "      <td>0</td>\n",
       "      <td>1730000</td>\n",
       "      <td>194.2</td>\n",
       "      <td>1.0</td>\n",
       "      <td>55.722142</td>\n",
       "      <td>37.618569</td>\n",
       "      <td>5</td>\n",
       "    </tr>\n",
       "    <tr>\n",
       "      <th>4</th>\n",
       "      <td>0</td>\n",
       "      <td>NaN</td>\n",
       "      <td>4079.279364</td>\n",
       "      <td>1</td>\n",
       "      <td>3</td>\n",
       "      <td>–</td>\n",
       "      <td>22.7</td>\n",
       "      <td>6</td>\n",
       "      <td>1</td>\n",
       "      <td>NaN</td>\n",
       "      <td>4403057</td>\n",
       "      <td>22.7</td>\n",
       "      <td>1.0</td>\n",
       "      <td>55.775753</td>\n",
       "      <td>37.671938</td>\n",
       "      <td>1</td>\n",
       "    </tr>\n",
       "  </tbody>\n",
       "</table>\n",
       "</div>"
      ],
      "text/plain": [
       "   Bal  Brick         Dist  District Floor Kitsp Livesp Metrdist  New Nfloors  \\\n",
       "0    1    NaN  2900.122261         1     9    35     45        9    0       1   \n",
       "1    1    1.0  4126.204251         1     6    15    100        7    0       1   \n",
       "2    0    0.0  2829.209743         1     1   6.5     30        6    0       0   \n",
       "3    1    1.0  3716.069853         1     1     –      1        9    0       0   \n",
       "4    0    NaN  4079.279364         1     3     –   22.7        6    1     NaN   \n",
       "\n",
       "       Price  Totsp  Walk        lat        lon rooms  \n",
       "0   25000000     83   1.0  55.776006  37.646274     3  \n",
       "1  133846440    147   1.0  55.723699  37.583697     4  \n",
       "2   10850000     42   1.0  55.731075  37.629816     2  \n",
       "3    1730000  194.2   1.0  55.722142  37.618569     5  \n",
       "4    4403057   22.7   1.0  55.775753  37.671938     1  "
      ]
     },
     "execution_count": 78,
     "metadata": {},
     "output_type": "execute_result"
    }
   ],
   "source": [
    "a_df = pd.DataFrame(a)\n",
    "a_df.to_csv(\"C:\\Serega\\Python\\cian.csv\")\n",
    "a_df.head()"
   ]
  }
 ],
 "metadata": {
  "anaconda-cloud": {},
  "kernelspec": {
   "display_name": "Python [default]",
   "language": "python",
   "name": "python3"
  },
  "language_info": {
   "codemirror_mode": {
    "name": "ipython",
    "version": 3
   },
   "file_extension": ".py",
   "mimetype": "text/x-python",
   "name": "python",
   "nbconvert_exporter": "python",
   "pygments_lexer": "ipython3",
   "version": "3.5.2"
  }
 },
 "nbformat": 4,
 "nbformat_minor": 0
}
